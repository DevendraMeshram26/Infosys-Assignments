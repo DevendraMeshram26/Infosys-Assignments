{
  "cells": [
    {
      "cell_type": "markdown",
      "metadata": {
        "id": "view-in-github",
        "colab_type": "text"
      },
      "source": [
        "<a href=\"https://colab.research.google.com/github/DevendraMeshram26/Infosys-Assignments/blob/main/chatbot.ipynb\" target=\"_parent\"><img src=\"https://colab.research.google.com/assets/colab-badge.svg\" alt=\"Open In Colab\"/></a>"
      ]
    },
    {
      "cell_type": "code",
      "execution_count": null,
      "metadata": {
        "id": "15sxkfVrv3fP"
      },
      "outputs": [],
      "source": [
        "import requests\n",
        "\n",
        "API_KEY = \"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\"\n"
      ]
    },
    {
      "cell_type": "code",
      "execution_count": null,
      "metadata": {
        "id": "BQEeBT9swnKQ"
      },
      "outputs": [],
      "source": [
        "import json\n",
        "\n",
        "url = \"https://api.groq.com/openai/v1/chat/completions\"\n",
        "\n"
      ]
    },
    {
      "cell_type": "code",
      "execution_count": null,
      "metadata": {
        "colab": {
          "background_save": true,
          "base_uri": "https://localhost:8080/"
        },
        "id": "66_eydj-x5kW",
        "outputId": "37277031-fc4a-4ea6-9d70-2b8e9afebb13"
      },
      "outputs": [
        {
          "name": "stdout",
          "output_type": "stream",
          "text": [
            "A well-planned diet is crucial for weight loss. Here's a general diet plan that you can follow:\n",
            "\n",
            "** Macronutrient Breakdown: **\n",
            "\n",
            "* 1.6-2.2 grams of protein per kilogram of body weight (40-55% of total calories)\n",
            "* 1-1.5 grams of healthy fats per kilogram of body weight (20-30% of total calories)\n",
            "* 2-3 grams of complex carbohydrates per kilogram of body weight (40-55% of total calories)\n",
            "\n",
            "** Sample Meal Plan: **\n",
            "\n",
            "**Breakfast**\n",
            "\n",
            "* Monday, Wednesday, Friday: Oatmeal with fruits, nuts, and a sprinkle of cinnamon (300 calories, 20g protein, 40g carbs, 10g fat)\n",
            "* Tuesday, Thursday: Scrambled eggs with whole wheat toast, avocado, and cherry tomatoes (350 calories, 25g protein, 30g carbs, 20g fat)\n",
            "* Saturday, Sunday\n",
            "\n",
            "\n",
            "\n",
            "To support muscle gain, you'll need to increase your daily caloric intake to support muscle growth and recovery. Aim for an additional 250-500 calories above your maintenance level, which is currently 2000 calories.\n",
            "\n",
            "New daily caloric intake: 2250-2500 calories\n",
            "\n",
            "Here's a sample meal plan to support muscle gain:\n",
            "\n",
            "**Macro Breakdown:**\n",
            "\n",
            "* High-quality protein: 1.6-2.2 grams per kilogram of body weight (e.g., 120-160 grams per day for a 150-pound person)\n",
            "* Carbohydrates: 2-3 grams per kilogram of body weight (e.g., 150-200 grams per day for a 150-pound person)\n",
            "* Fat: 0.5-1 gram per kilogram of body weight (e.g., 35-50 grams per day for a 150-pound person)\n",
            "\n",
            "**Meal Plan:**\n",
            "\n",
            "**Breakfast**\n",
            "\n",
            "* 3 whole eggs\n",
            "* 2 egg\n",
            "\n",
            "\n",
            "\n"
          ]
        },
        {
          "ename": "KeyboardInterrupt",
          "evalue": "Interrupted by user",
          "output_type": "error",
          "traceback": [
            "\u001b[0;31m---------------------------------------------------------------------------\u001b[0m",
            "\u001b[0;31mKeyboardInterrupt\u001b[0m                         Traceback (most recent call last)",
            "\u001b[0;32m<ipython-input-9-48c7fc84f59d>\u001b[0m in \u001b[0;36m<cell line: 7>\u001b[0;34m()\u001b[0m\n\u001b[1;32m      6\u001b[0m ]\n\u001b[1;32m      7\u001b[0m \u001b[0;32mwhile\u001b[0m \u001b[0;32mTrue\u001b[0m\u001b[0;34m:\u001b[0m\u001b[0;34m\u001b[0m\u001b[0;34m\u001b[0m\u001b[0m\n\u001b[0;32m----> 8\u001b[0;31m   \u001b[0mprompt\u001b[0m \u001b[0;34m=\u001b[0m \u001b[0minput\u001b[0m\u001b[0;34m(\u001b[0m\u001b[0;34m\"Enter the prompt\"\u001b[0m\u001b[0;34m)\u001b[0m\u001b[0;34m\u001b[0m\u001b[0;34m\u001b[0m\u001b[0m\n\u001b[0m\u001b[1;32m      9\u001b[0m   messages.append(\n\u001b[1;32m     10\u001b[0m     {\n",
            "\u001b[0;32m/usr/local/lib/python3.10/dist-packages/ipykernel/kernelbase.py\u001b[0m in \u001b[0;36mraw_input\u001b[0;34m(self, prompt)\u001b[0m\n\u001b[1;32m    849\u001b[0m                 \u001b[0;34m\"raw_input was called, but this frontend does not support input requests.\"\u001b[0m\u001b[0;34m\u001b[0m\u001b[0;34m\u001b[0m\u001b[0m\n\u001b[1;32m    850\u001b[0m             )\n\u001b[0;32m--> 851\u001b[0;31m         return self._input_request(str(prompt),\n\u001b[0m\u001b[1;32m    852\u001b[0m             \u001b[0mself\u001b[0m\u001b[0;34m.\u001b[0m\u001b[0m_parent_ident\u001b[0m\u001b[0;34m,\u001b[0m\u001b[0;34m\u001b[0m\u001b[0;34m\u001b[0m\u001b[0m\n\u001b[1;32m    853\u001b[0m             \u001b[0mself\u001b[0m\u001b[0;34m.\u001b[0m\u001b[0m_parent_header\u001b[0m\u001b[0;34m,\u001b[0m\u001b[0;34m\u001b[0m\u001b[0;34m\u001b[0m\u001b[0m\n",
            "\u001b[0;32m/usr/local/lib/python3.10/dist-packages/ipykernel/kernelbase.py\u001b[0m in \u001b[0;36m_input_request\u001b[0;34m(self, prompt, ident, parent, password)\u001b[0m\n\u001b[1;32m    893\u001b[0m             \u001b[0;32mexcept\u001b[0m \u001b[0mKeyboardInterrupt\u001b[0m\u001b[0;34m:\u001b[0m\u001b[0;34m\u001b[0m\u001b[0;34m\u001b[0m\u001b[0m\n\u001b[1;32m    894\u001b[0m                 \u001b[0;31m# re-raise KeyboardInterrupt, to truncate traceback\u001b[0m\u001b[0;34m\u001b[0m\u001b[0;34m\u001b[0m\u001b[0m\n\u001b[0;32m--> 895\u001b[0;31m                 \u001b[0;32mraise\u001b[0m \u001b[0mKeyboardInterrupt\u001b[0m\u001b[0;34m(\u001b[0m\u001b[0;34m\"Interrupted by user\"\u001b[0m\u001b[0;34m)\u001b[0m \u001b[0;32mfrom\u001b[0m \u001b[0;32mNone\u001b[0m\u001b[0;34m\u001b[0m\u001b[0;34m\u001b[0m\u001b[0m\n\u001b[0m\u001b[1;32m    896\u001b[0m             \u001b[0;32mexcept\u001b[0m \u001b[0mException\u001b[0m \u001b[0;32mas\u001b[0m \u001b[0me\u001b[0m\u001b[0;34m:\u001b[0m\u001b[0;34m\u001b[0m\u001b[0;34m\u001b[0m\u001b[0m\n\u001b[1;32m    897\u001b[0m                 \u001b[0mself\u001b[0m\u001b[0;34m.\u001b[0m\u001b[0mlog\u001b[0m\u001b[0;34m.\u001b[0m\u001b[0mwarning\u001b[0m\u001b[0;34m(\u001b[0m\u001b[0;34m\"Invalid Message:\"\u001b[0m\u001b[0;34m,\u001b[0m \u001b[0mexc_info\u001b[0m\u001b[0;34m=\u001b[0m\u001b[0;32mTrue\u001b[0m\u001b[0;34m)\u001b[0m\u001b[0;34m\u001b[0m\u001b[0;34m\u001b[0m\u001b[0m\n",
            "\u001b[0;31mKeyboardInterrupt\u001b[0m: Interrupted by user"
          ]
        }
      ],
      "source": [
        "messages = [\n",
        "  {\n",
        "    \"role\": \"system\",\n",
        "    \"content\": \"You are a expert in Meal Planner that understands the user's query and provide the output\"\n",
        "  }\n",
        "]\n",
        "while True:\n",
        "  prompt = input(\"Enter the prompt\")\n",
        "  messages.append(\n",
        "    {\n",
        "      \"role\": \"user\",\n",
        "      \"content\": prompt\n",
        "    }\n",
        "  )\n",
        "  data = {\n",
        "    \"messages\": messages,\n",
        "    \"model\": \"llama3-8b-8192\",\n",
        "    \"temperature\": 1 ,\n",
        "    \"max_tokens\": 200 ,\n",
        "  }\n",
        "\n",
        "  headers = {\n",
        "      \"Content-Type\": \"application/json\",\n",
        "      \"Authorization\": f\"Bearer {API_KEY}\"\n",
        "  }\n",
        "\n",
        "  res = requests.post(\n",
        "      url, data=json.dumps(data), headers=headers\n",
        "  )\n",
        "  res = res.json()\n",
        "  data = res[\"choices\"][0][\"message\"][\"content\"]\n",
        "  messages.append(\n",
        "      {\n",
        "          \"role\": \"assistant\",\n",
        "          \"content\": data\n",
        "      }\n",
        "  )\n",
        "  print(data)\n",
        "  print(\"\\n\\n\")\n"
      ]
    },
    {
      "cell_type": "code",
      "execution_count": null,
      "metadata": {
        "id": "JMt_RHLAEoCa"
      },
      "outputs": [],
      "source": []
    }
  ],
  "metadata": {
    "colab": {
      "provenance": [],
      "include_colab_link": true
    },
    "kernelspec": {
      "display_name": "Python 3",
      "name": "python3"
    }
  },
  "nbformat": 4,
  "nbformat_minor": 0
}